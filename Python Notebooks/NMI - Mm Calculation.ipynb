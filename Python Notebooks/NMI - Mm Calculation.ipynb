{
 "cells": [
  {
   "cell_type": "code",
   "execution_count": 1,
   "metadata": {},
   "outputs": [],
   "source": [
    "import numpy as np\n",
    "import pandas as pd\n",
    "import matplotlib.pyplot as plt\n",
    "from scipy.optimize import curve_fit\n",
    "\n",
    "%matplotlib inline"
   ]
  },
  {
   "cell_type": "code",
   "execution_count": 10,
   "metadata": {},
   "outputs": [
    {
     "name": "stdout",
     "output_type": "stream",
     "text": [
      "Detector voltages shape: (845, 17)\n",
      "UV absorbance shape: (845,)\n"
     ]
    }
   ],
   "source": [
    "# Get data\n",
    "\n",
    "data = pd.read_csv('747.csv')\n",
    "start_time = 15.9531  # replace with obtained peak value from peaks code\n",
    "end_time = 23.1638    # replace with obtained peak value from peaks code\n",
    "\n",
    "filtered_data = data[(data['time (min)'] >= start_time) & (data['time (min)'] <= end_time)]\n",
    "\n",
    "time = filtered_data['time (min)'].values\n",
    "\n",
    "detector_voltages = filtered_data.filter(regex='detector voltage').values  # All detector voltage columns\n",
    "num_detectors = detector_voltages.shape[1]\n",
    "\n",
    "uv_absorbance_channel1 = filtered_data['UV absorbance data: absorbance  (AU) channel 1'].values\n",
    "uv_absorbance_channel2 = filtered_data['UV absorbance data: absorbance  (AU) channel 2'].values\n",
    "\n",
    "uv_absorbance = uv_absorbance_channel1 #can use channel 1 + channel 2 / 2 to get average if we want\n",
    "\n",
    "print(f\"Detector voltages shape: {detector_voltages.shape}\")\n",
    "print(f\"UV absorbance shape: {uv_absorbance.shape}\")\n",
    "\n"
   ]
  },
  {
   "cell_type": "markdown",
   "metadata": {},
   "source": [
    "# Need Real values (especially standard voltage values for sample)"
   ]
  },
  {
   "cell_type": "code",
   "execution_count": 12,
   "metadata": {},
   "outputs": [
    {
     "name": "stdout",
     "output_type": "stream",
     "text": [
      "Detector 2: K_detector = 2.00e-05 m^-1/V\n",
      "Detector 3: K_detector = 1.78e-05 m^-1/V\n",
      "Detector 4: K_detector = 1.60e-05 m^-1/V\n",
      "Detector 5: K_detector = 1.45e-05 m^-1/V\n",
      "Detector 6: K_detector = 1.33e-05 m^-1/V\n",
      "Detector 7: K_detector = 1.23e-05 m^-1/V\n",
      "Detector 8: K_detector = 1.14e-05 m^-1/V\n",
      "Detector 9: K_detector = 1.07e-05 m^-1/V\n",
      "Detector 10: K_detector = 1.00e-05 m^-1/V\n",
      "Detector 11: K_detector = 9.41e-06 m^-1/V\n",
      "Detector 12: K_detector = 8.89e-06 m^-1/V\n",
      "Detector 13: K_detector = 8.42e-06 m^-1/V\n",
      "Detector 14: K_detector = 8.00e-06 m^-1/V\n",
      "Detector 15: K_detector = 7.62e-06 m^-1/V\n",
      "Detector 16: K_detector = 7.27e-06 m^-1/V\n",
      "Detector 17: K_detector = 6.96e-06 m^-1/V\n",
      "Detector 18: K_detector = 6.67e-06 m^-1/V\n",
      "R_theta shape: (845, 17)\n"
     ]
    }
   ],
   "source": [
    "#calibration data\n",
    "\n",
    "c_std = 1e-3 #in g/mL  #need real concentration\n",
    "\n",
    "# Known Rayleigh ratio of the standard sample at each detector angle\n",
    "# Assuming R_std is constant for all detectors for simplicity (in m^-1)\n",
    "R_std = 1e-5  # Need actual \n",
    "\n",
    "# V_std = detector_voltages\n",
    "V_std = np.linspace(0.5, 1.5, num_detectors)  # Simulated standard voltages\n",
    "K_detector = R_std / V_std\n",
    "\n",
    "for i in range(num_detectors):\n",
    "    print(f\"Detector {i+2}: K_detector = {K_detector[i]:.2e} m^-1/V\")\n",
    "\n",
    "# Compute Rtheta for each det and time point\n",
    "\n",
    "R_theta = np.zeros_like(detector_voltages)\n",
    "for i in range(num_detectors):\n",
    "    R_theta[:, i] = K_detector[i] * detector_voltages[:, i]\n",
    "    \n",
    "print(f\"R_theta shape: {R_theta.shape}\")"
   ]
  },
  {
   "cell_type": "code",
   "execution_count": 13,
   "metadata": {},
   "outputs": [
    {
     "name": "stdout",
     "output_type": "stream",
     "text": [
      "Sample concentration (g/mL): [41.222674 41.793538 42.362388 42.933609 43.516645]\n"
     ]
    }
   ],
   "source": [
    "# sample conc using uv data\n",
    "\n",
    "epsilon = 1e5 #molar ext coeff (ε) in L·mol^-1·cm^-1\n",
    "\n",
    "#path length in cm\n",
    "path_length = 1.0\n",
    "\n",
    "# molecular weight of sample if known\n",
    "# ifunknown, initial assumption or iterative approach\n",
    "#maybe machine learning??\n",
    "Mw_approx = 1e5 #in g/mol\n",
    "\n",
    "#calc conc \n",
    "epsilon_mL = epsilon / 1000 # Now in mL·mol^-1·cm^-1\n",
    "c_mol_per_mL = uv_absorbance / (epsilon_mL * path_length)\n",
    "\n",
    "#convert to g/mL\n",
    "c = c_mol_per_mL * Mw_approx\n",
    "print(f\"Sample concentration (g/mL): {c[:5]}\")"
   ]
  },
  {
   "cell_type": "code",
   "execution_count": 14,
   "metadata": {},
   "outputs": [
    {
     "name": "stdout",
     "output_type": "stream",
     "text": [
      "Optical constant K = 2.48e-07 cm^2·mol·g^-2\n"
     ]
    }
   ],
   "source": [
    "# get optical constant\n",
    "n = 1.33 #ref of water\n",
    "NA = 6.02214076e23  \n",
    "lambda_vac = 632.8e-9\n",
    "\n",
    "dn_dc = 00.185 #need real\n",
    "lambda_cm = lambda_vac * 100  # Convert from meters to cm\n",
    "K = (4 * np.pi**2 * n**2 * (dn_dc)**2) / (NA * lambda_cm**4)\n",
    "\n",
    "print(f\"Optical constant K = {K:.2e} cm^2·mol·g^-2\")"
   ]
  },
  {
   "cell_type": "code",
   "execution_count": 15,
   "metadata": {},
   "outputs": [
    {
     "name": "stdout",
     "output_type": "stream",
     "text": [
      "M_values shape: (845, 17)\n",
      "M_values shape: (845, 17)\n",
      "M_values shape: (845, 17)\n",
      "M_values shape: (845, 17)\n",
      "M_values shape: (845, 17)\n",
      "M_values shape: (845, 17)\n",
      "M_values shape: (845, 17)\n",
      "M_values shape: (845, 17)\n",
      "M_values shape: (845, 17)\n",
      "M_values shape: (845, 17)\n",
      "M_values shape: (845, 17)\n",
      "M_values shape: (845, 17)\n",
      "M_values shape: (845, 17)\n",
      "M_values shape: (845, 17)\n",
      "M_values shape: (845, 17)\n",
      "M_values shape: (845, 17)\n",
      "M_values shape: (845, 17)\n",
      "Detector 2: Average Molar Mass = 3.75e-01 g/mol\n",
      "Detector 3: Average Molar Mass = 9.35e-02 g/mol\n",
      "Detector 4: Average Molar Mass = 4.83e-02 g/mol\n",
      "Detector 5: Average Molar Mass = 2.33e-02 g/mol\n",
      "Detector 6: Average Molar Mass = 4.86e-02 g/mol\n",
      "Detector 7: Average Molar Mass = 3.53e-02 g/mol\n",
      "Detector 8: Average Molar Mass = 2.94e-02 g/mol\n",
      "Detector 9: Average Molar Mass = 2.46e-02 g/mol\n",
      "Detector 10: Average Molar Mass = 2.26e-02 g/mol\n",
      "Detector 11: Average Molar Mass = 2.17e-02 g/mol\n",
      "Detector 12: Average Molar Mass = 2.08e-02 g/mol\n",
      "Detector 13: Average Molar Mass = 1.94e-02 g/mol\n",
      "Detector 14: Average Molar Mass = 1.84e-02 g/mol\n",
      "Detector 15: Average Molar Mass = 2.45e-02 g/mol\n",
      "Detector 16: Average Molar Mass = 2.87e-02 g/mol\n",
      "Detector 17: Average Molar Mass = 2.10e-02 g/mol\n",
      "Detector 18: Average Molar Mass = 2.57e-02 g/mol\n",
      "\n",
      "Overall Average Molar Mass: 5.18e-02 ± 8.27e-02 g/mol\n"
     ]
    }
   ],
   "source": [
    "# calc molar mass\n",
    "M_values = np.zeros_like(R_theta) #initialise to store M valeus\n",
    "#avoid division by 0\n",
    "c_safe = c + 1e-12\n",
    "for i in range(num_detectors):\n",
    "    M_values[:, i] = R_theta[:, i] / (K * c_safe)\n",
    "    print(f\"M_values shape: {M_values.shape}\")\n",
    "    \n",
    "M_avg_detectors = np.mean(M_values, axis=0)\n",
    "M_std_detectors = np.std(M_values, axis=0)\n",
    "\n",
    "# Print the average Molar Mass for each detector\n",
    "for i in range(num_detectors):\n",
    "    print(f\"Detector {i+2}: Average Molar Mass = {M_avg_detectors[i]:.2e} g/mol\")\n",
    "\n",
    "# Calculate the overall average Molar Mass\n",
    "M_overall_avg = np.mean(M_avg_detectors)\n",
    "M_overall_std = np.std(M_avg_detectors)\n",
    "\n",
    "print(f\"\\nOverall Average Molar Mass: {M_overall_avg:.2e} ± {M_overall_std:.2e} g/mol\")"
   ]
  },
  {
   "cell_type": "code",
   "execution_count": 16,
   "metadata": {},
   "outputs": [
    {
     "data": {
      "image/png": "[encoded data removed]",
      "text/plain": [
       "<Figure size 640x480 with 1 Axes>"
      ]
     },
     "metadata": {},
     "output_type": "display_data"
    }
   ],
   "source": [
    "scattering_angles = np.array([13.07,20.68,29.62,37.48,44.84,53.07,61.08,70.07,80.06,90.00,99.94,109.93,120.06,130.43,140.03,149.02,157.70])\n",
    "scattering_angles_rad = np.deg2rad(scattering_angles)\n",
    "\n",
    "plt.errorbar(scattering_angles, M_avg_detectors, yerr=M_std_detectors, fmt='o', ecolor='r', capsize=5)\n",
    "plt.xlabel('Scattering Angle (degrees)')\n",
    "plt.ylabel('Molar Mass (g/mol)')\n",
    "plt.title('Molar Mass vs. Scattering Angle')\n",
    "plt.grid(True)\n",
    "plt.show()"
   ]
  }
 ],
 "metadata": {
  "kernelspec": {
   "display_name": "Python 3",
   "language": "python",
   "name": "python3"
  },
  "language_info": {
   "codemirror_mode": {
    "name": "ipython",
    "version": 3
   },
   "file_extension": ".py",
   "mimetype": "text/x-python",
   "name": "python",
   "nbconvert_exporter": "python",
   "pygments_lexer": "ipython3",
   "version": "3.11.9"
  }
 },
 "nbformat": 4,
 "nbformat_minor": 2
}
