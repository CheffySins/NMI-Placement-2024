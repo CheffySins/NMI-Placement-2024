{
 "cells": [
  {
   "cell_type": "code",
   "execution_count": 1,
   "metadata": {},
   "outputs": [],
   "source": [
    "import numpy as np\n",
    "import pandas as pd\n",
    "import matplotlib.pyplot as plt\n",
    "from scipy.optimize import curve_fit\n",
    "\n",
    "%matplotlib inline"
   ]
  },
  {
   "cell_type": "code",
   "execution_count": 9,
   "metadata": {},
   "outputs": [
    {
     "name": "stdout",
     "output_type": "stream",
     "text": [
      "Detector voltages shape: (845, 17)\n",
      "Number of detectors: 17\n",
      "      time (min)  raw light scattering data: detector voltage  (V) detector 2  \\\n",
      "1869   15.953117                                           0.119439             \n",
      "1870   15.961650                                           0.116753             \n",
      "1871   15.970183                                           0.116354             \n",
      "1872   15.978717                                           0.116690             \n",
      "1873   15.987250                                           0.117378             \n",
      "\n",
      "      raw light scattering data: detector voltage  (V) detector 3  \\\n",
      "1869                                           0.030916             \n",
      "1870                                           0.030247             \n",
      "1871                                           0.030146             \n",
      "1872                                           0.030176             \n",
      "1873                                           0.030494             \n",
      "\n",
      "      raw light scattering data: detector voltage  (V) detector 4  \\\n",
      "1869                                           0.016315             \n",
      "1870                                           0.016007             \n",
      "1871                                           0.015934             \n",
      "1872                                           0.015988             \n",
      "1873                                           0.016246             \n",
      "\n",
      "      raw light scattering data: detector voltage  (V) detector 5  \\\n",
      "1869                                           0.007799             \n",
      "1870                                           0.007712             \n",
      "1871                                           0.007685             \n",
      "1872                                           0.007715             \n",
      "1873                                           0.007804             \n",
      "\n",
      "      raw light scattering data: detector voltage  (V) detector 6  \\\n",
      "1869                                           0.017913             \n",
      "1870                                           0.017768             \n",
      "1871                                           0.017713             \n",
      "1872                                           0.017728             \n",
      "1873                                           0.018066             \n",
      "\n",
      "      raw light scattering data: detector voltage  (V) detector 7  \\\n",
      "1869                                           0.013502             \n",
      "1870                                           0.013420             \n",
      "1871                                           0.013395             \n",
      "1872                                           0.013371             \n",
      "1873                                           0.013513             \n",
      "\n",
      "      raw light scattering data: detector voltage  (V) detector 8  \\\n",
      "1869                                           0.011966             \n",
      "1870                                           0.011918             \n",
      "1871                                           0.011892             \n",
      "1872                                           0.011881             \n",
      "1873                                           0.011968             \n",
      "\n",
      "      raw light scattering data: detector voltage  (V) detector 9  \\\n",
      "1869                                           0.010464             \n",
      "1870                                           0.010427             \n",
      "1871                                           0.010415             \n",
      "1872                                           0.010370             \n",
      "1873                                           0.010450             \n",
      "\n",
      "      raw light scattering data: detector voltage  (V) detector 10  ...  \\\n",
      "1869                                           0.010311             ...   \n",
      "1870                                           0.010284             ...   \n",
      "1871                                           0.010268             ...   \n",
      "1872                                           0.010217             ...   \n",
      "1873                                           0.010283             ...   \n",
      "\n",
      "      raw light scattering data: detector voltage  (V) detector 15  \\\n",
      "1869                                           0.015071              \n",
      "1870                                           0.015067              \n",
      "1871                                           0.015068              \n",
      "1872                                           0.015001              \n",
      "1873                                           0.015064              \n",
      "\n",
      "      raw light scattering data: detector voltage  (V) detector 16  \\\n",
      "1869                                           0.019311              \n",
      "1870                                           0.019304              \n",
      "1871                                           0.019298              \n",
      "1872                                           0.019259              \n",
      "1873                                           0.019319              \n",
      "\n",
      "      raw light scattering data: detector voltage  (V) detector 17  \\\n",
      "1869                                           0.016535              \n",
      "1870                                           0.016533              \n",
      "1871                                           0.016526              \n",
      "1872                                           0.016511              \n",
      "1873                                           0.016556              \n",
      "\n",
      "      raw light scattering data: detector voltage  (V) detector 18  \\\n",
      "1869                                           0.021317              \n",
      "1870                                           0.021305              \n",
      "1871                                           0.021312              \n",
      "1872                                           0.021323              \n",
      "1873                                           0.021379              \n",
      "\n",
      "      UV absorbance data: absorbance  (AU) channel 1  \\\n",
      "1869                                        0.041223   \n",
      "1870                                        0.041794   \n",
      "1871                                        0.042362   \n",
      "1872                                        0.042934   \n",
      "1873                                        0.043517   \n",
      "\n",
      "      UV absorbance data: absorbance  (AU) channel 2  \\\n",
      "1869                                        0.003309   \n",
      "1870                                        0.003344   \n",
      "1871                                        0.003373   \n",
      "1872                                        0.003399   \n",
      "1873                                        0.003427   \n",
      "\n",
      "      count rate: count rate  (Hz)  \\\n",
      "1869                   57065.05845   \n",
      "1870                   57129.66635   \n",
      "1871                   58466.99977   \n",
      "1872                   56536.56068   \n",
      "1873                   58496.40848   \n",
      "\n",
      "      count rate at corr. func.: count rate  (Hz)  \\\n",
      "1869                             58261.5751600000   \n",
      "1870                             57753.7968200000   \n",
      "1871                             57909.6387600000   \n",
      "1872                             58065.4807000000   \n",
      "1873                             58221.3226300000   \n",
      "\n",
      "      Forward Laser Monitor: Forward Laser Monitor  (V)  \\\n",
      "1869                                           0.930680   \n",
      "1870                                           0.930668   \n",
      "1871                                           0.930660   \n",
      "1872                                           0.930657   \n",
      "1873                                           0.930664   \n",
      "\n",
      "      Auto-inject Signal: Auto-inject Signal  \n",
      "1869                                          \n",
      "1870                                          \n",
      "1871                                          \n",
      "1872                                          \n",
      "1873                                          \n",
      "\n",
      "[5 rows x 24 columns]\n"
     ]
    }
   ],
   "source": [
    "# Get data\n",
    "\n",
    "data = pd.read_csv('747.csv')\n",
    "start_time = 15.9531  # replace with obtained peak value from peaks code\n",
    "end_time = 23.1638    # replace with obtained peak value from peaks code\n",
    "\n",
    "filtered_data = data[(data['time (min)'] >= start_time) & (data['time (min)'] <= end_time)]\n",
    "\n",
    "time = filtered_data['time (min)'].values\n",
    "\n",
    "detector_voltages = filtered_data.filter(regex='detector voltage').values  # All detector voltage columns\n",
    "num_detectors = detector_voltages.shape[1]\n",
    "print(f\"Detector voltages shape: {detector_voltages.shape}\")\n",
    "print(f\"Number of detectors: {num_detectors}\") #verify\n",
    "print(filtered_data.head())\n",
    "\n"
   ]
  },
  {
   "cell_type": "code",
   "execution_count": null,
   "metadata": {},
   "outputs": [],
   "source": []
  },
  {
   "cell_type": "code",
   "execution_count": 4,
   "metadata": {},
   "outputs": [
    {
     "name": "stdout",
     "output_type": "stream",
     "text": [
      "Filtered detector voltages shape: (845, 17)\n",
      "Filtered time range: 15.95311651 to 23.15527236 minutes\n"
     ]
    }
   ],
   "source": [
    "# Define the time range\n",
    "start_time = 15.9531  # replace with obtained peak value from peaks code\n",
    "end_time = 23.1638    # replace with obtained peak value from peaks code\n",
    "\n",
    "# Create a boolean mask for the time range\n",
    "time_mask = (data['time (min)'] >= start_time) & (data['time (min)'] <= end_time)\n",
    "\n",
    "# Apply the mask to filter both time and detector voltages\n",
    "filtered_time = data['time (min)'][time_mask].values\n",
    "filtered_detector_voltages = data.filter(regex='detector voltage')[time_mask].values\n",
    "\n",
    "# Number of detectors (in the filtered range)\n",
    "num_detectors = filtered_detector_voltages.shape[1]\n",
    "\n",
    "# Display the shape of the filtered detector voltages array\n",
    "print(f\"Filtered detector voltages shape: {filtered_detector_voltages.shape}\")\n",
    "\n",
    "# Optionally, display the filtered time data to confirm the range\n",
    "print(f\"Filtered time range: {filtered_time.min()} to {filtered_time.max()} minutes\")"
   ]
  },
  {
   "cell_type": "markdown",
   "metadata": {},
   "source": [
    "# USE BETTER DATA HERE, LOOK TO INCLUDE R2 VALUE AND VERIFY ASSUMED VALUES"
   ]
  },
  {
   "cell_type": "code",
   "execution_count": 11,
   "metadata": {},
   "outputs": [
    {
     "data": {
      "image/png": "[encoded data removed]",
      "text/plain": [
       "<Figure size 640x480 with 1 Axes>"
      ]
     },
     "metadata": {},
     "output_type": "display_data"
    }
   ],
   "source": [
    "#scattering angles\n",
    "scattering_angles = np.array([13.07,20.68,29.62,37.48,44.84,53.07,61.08,70.07,80.06,90.00,99.94,109.93,120.06,130.43,140.03,149.02,157.70])\n",
    "scattering_angles_rad = np.deg2rad(scattering_angles)\n",
    "\n",
    "#g2(tau)\n",
    "\n",
    "count_rate = filtered_data['count rate: count rate  (Hz)'].values\n",
    "#simulate delay times for auto corr function, assuming delay times range from 1e-6 to 1s\n",
    "tau = np.logspace(-6,0,num=100) #100 points between 1 micro s to 1 s\n",
    "\n",
    "#simulate g2(tau) using an exp decay model for monodisperse particles, assume gamme value\n",
    "Gamma_avg = 1e3\n",
    "\n",
    "#coherence factors beta (instrucment specific, typically between 0.5-1)\n",
    "beta = 0.9\n",
    "\n",
    "#simulate g2(tau) for each detector\n",
    "g2_tau = np.zeros((num_detectors, len(tau)))\n",
    "\n",
    "for i in range(num_detectors):\n",
    "    g2_tau[i] = 1 + beta * np.exp(-2 * Gamma_avg * tau)\n",
    "    \n",
    "#plot g2(tau) for detector 11 as example\n",
    "plt.semilogx(tau, g2_tau[9])\n",
    "plt.xlabel('Delay Time (s)')\n",
    "plt.ylabel('g2(τ)')\n",
    "plt.title('Simulated Autocorrelation Function for Detector 11')\n",
    "plt.show()"
   ]
  },
  {
   "cell_type": "markdown",
   "metadata": {},
   "source": [
    "# same as above"
   ]
  },
  {
   "cell_type": "code",
   "execution_count": 12,
   "metadata": {},
   "outputs": [
    {
     "name": "stdout",
     "output_type": "stream",
     "text": [
      "Detector 2: Beta = 0.900, Gamma = 1.00e+03 1/s\n",
      "Detector 3: Beta = 0.900, Gamma = 1.00e+03 1/s\n",
      "Detector 4: Beta = 0.900, Gamma = 1.00e+03 1/s\n",
      "Detector 5: Beta = 0.900, Gamma = 1.00e+03 1/s\n",
      "Detector 6: Beta = 0.900, Gamma = 1.00e+03 1/s\n",
      "Detector 7: Beta = 0.900, Gamma = 1.00e+03 1/s\n",
      "Detector 8: Beta = 0.900, Gamma = 1.00e+03 1/s\n",
      "Detector 9: Beta = 0.900, Gamma = 1.00e+03 1/s\n",
      "Detector 10: Beta = 0.900, Gamma = 1.00e+03 1/s\n",
      "Detector 11: Beta = 0.900, Gamma = 1.00e+03 1/s\n",
      "Detector 12: Beta = 0.900, Gamma = 1.00e+03 1/s\n",
      "Detector 13: Beta = 0.900, Gamma = 1.00e+03 1/s\n",
      "Detector 14: Beta = 0.900, Gamma = 1.00e+03 1/s\n",
      "Detector 15: Beta = 0.900, Gamma = 1.00e+03 1/s\n",
      "Detector 16: Beta = 0.900, Gamma = 1.00e+03 1/s\n",
      "Detector 17: Beta = 0.900, Gamma = 1.00e+03 1/s\n",
      "Detector 18: Beta = 0.900, Gamma = 1.00e+03 1/s\n"
     ]
    }
   ],
   "source": [
    "# Fit g2(tau) to extracy decay rate\n",
    "def g2_model(tau, beta, Gamma):\n",
    "    return 1 + beta * np.exp(-2 * Gamma * tau)\n",
    "\n",
    "# store fitted gamma values\n",
    "Gamma_values = np.zeros(num_detectors)\n",
    "\n",
    "#fit g2_tau for each detector\n",
    "for i in range(num_detectors):\n",
    "    #initial guesses ?? NEED TO LOOK AT\n",
    "    initial_guess = [0.9, 1e3]\n",
    "    \n",
    "    #curve fit\n",
    "    popt, pcov = curve_fit(g2_model, tau, g2_tau[i], p0 = initial_guess)\n",
    "    #extract gamma\n",
    "    Gamma_values[i] = popt[1]\n",
    "    \n",
    "    print(f\"Detector {i+2}: Beta = {popt[0]:.3f}, Gamma = {popt[1]:.2e} 1/s\")"
   ]
  },
  {
   "cell_type": "markdown",
   "metadata": {},
   "source": [
    "# need method for ref. index"
   ]
  },
  {
   "cell_type": "code",
   "execution_count": 13,
   "metadata": {},
   "outputs": [
    {
     "name": "stdout",
     "output_type": "stream",
     "text": [
      "Detector 2: Angle = 13.1°, q = 2.88e+06 m^-1\n",
      "Detector 3: Angle = 20.7°, q = 4.55e+06 m^-1\n",
      "Detector 4: Angle = 29.6°, q = 6.47e+06 m^-1\n",
      "Detector 5: Angle = 37.5°, q = 8.14e+06 m^-1\n",
      "Detector 6: Angle = 44.8°, q = 9.66e+06 m^-1\n",
      "Detector 7: Angle = 53.1°, q = 1.13e+07 m^-1\n",
      "Detector 8: Angle = 61.1°, q = 1.29e+07 m^-1\n",
      "Detector 9: Angle = 70.1°, q = 1.45e+07 m^-1\n",
      "Detector 10: Angle = 80.1°, q = 1.63e+07 m^-1\n",
      "Detector 11: Angle = 90.0°, q = 1.79e+07 m^-1\n",
      "Detector 12: Angle = 99.9°, q = 1.94e+07 m^-1\n",
      "Detector 13: Angle = 109.9°, q = 2.07e+07 m^-1\n",
      "Detector 14: Angle = 120.1°, q = 2.19e+07 m^-1\n",
      "Detector 15: Angle = 130.4°, q = 2.30e+07 m^-1\n",
      "Detector 16: Angle = 140.0°, q = 2.38e+07 m^-1\n",
      "Detector 17: Angle = 149.0°, q = 2.44e+07 m^-1\n",
      "Detector 18: Angle = 157.7°, q = 2.48e+07 m^-1\n"
     ]
    }
   ],
   "source": [
    "# calc scattering vec q\n",
    "n = 1.33 #ref. index of solvent\n",
    "lambda_vac = 660e-9\n",
    "lambda_medium = lambda_vac / n \n",
    "\n",
    "q_values = (4* np.pi * n / lambda_vac) * np.sin(scattering_angles_rad / 2)\n",
    "\n",
    "for i in range(num_detectors):\n",
    "    print(f\"Detector {i+2}: Angle = {scattering_angles[i]:.1f}°, q = {q_values[i]:.2e} m^-1\")"
   ]
  },
  {
   "cell_type": "code",
   "execution_count": 14,
   "metadata": {},
   "outputs": [
    {
     "name": "stdout",
     "output_type": "stream",
     "text": [
      "Detector 2: D = 1.20e-10 m^2/s\n",
      "Detector 3: D = 4.84e-11 m^2/s\n",
      "Detector 4: D = 2.39e-11 m^2/s\n",
      "Detector 5: D = 1.51e-11 m^2/s\n",
      "Detector 6: D = 1.07e-11 m^2/s\n",
      "Detector 7: D = 7.81e-12 m^2/s\n",
      "Detector 8: D = 6.04e-12 m^2/s\n",
      "Detector 9: D = 4.73e-12 m^2/s\n",
      "Detector 10: D = 3.77e-12 m^2/s\n",
      "Detector 11: D = 3.12e-12 m^2/s\n",
      "Detector 12: D = 2.66e-12 m^2/s\n",
      "Detector 13: D = 2.33e-12 m^2/s\n",
      "Detector 14: D = 2.08e-12 m^2/s\n",
      "Detector 15: D = 1.89e-12 m^2/s\n",
      "Detector 16: D = 1.77e-12 m^2/s\n",
      "Detector 17: D = 1.68e-12 m^2/s\n",
      "Detector 18: D = 1.62e-12 m^2/s\n"
     ]
    }
   ],
   "source": [
    "# Diffusion Coeff\n",
    "D_values = Gamma_values / q_values ** 2\n",
    "for i in range(num_detectors):\n",
    "    print(f\"Detector {i+2}: D = {D_values[i]:.2e} m^2/s\")\n"
   ]
  },
  {
   "cell_type": "code",
   "execution_count": 16,
   "metadata": {},
   "outputs": [
    {
     "name": "stdout",
     "output_type": "stream",
     "text": [
      "Detector 2: R_h = 2.03 nm\n",
      "Detector 3: R_h = 5.05 nm\n",
      "Detector 4: R_h = 10.24 nm\n",
      "Detector 5: R_h = 16.18 nm\n",
      "Detector 6: R_h = 22.81 nm\n",
      "Detector 7: R_h = 31.29 nm\n",
      "Detector 8: R_h = 40.48 nm\n",
      "Detector 9: R_h = 51.67 nm\n",
      "Detector 10: R_h = 64.86 nm\n",
      "Detector 11: R_h = 78.39 nm\n",
      "Detector 12: R_h = 91.92 nm\n",
      "Detector 13: R_h = 105.12 nm\n",
      "Detector 14: R_h = 117.66 nm\n",
      "Detector 15: R_h = 129.23 nm\n",
      "Detector 16: R_h = 138.47 nm\n",
      "Detector 17: R_h = 145.60 nm\n",
      "Detector 18: R_h = 150.92 nm\n",
      "\n",
      "Average Hydrodynamic Radius: 70.70 ± 51.32 nm\n"
     ]
    }
   ],
   "source": [
    "#Rh using S-E Eqn.\n",
    "k_B = 1.380649e-23\n",
    "T = 296.15 #23 deg\n",
    "eta = 0.8872e-3 #visc of water\n",
    "\n",
    "Rh_values = (k_B * T) / (6 * np.pi * eta * D_values)\n",
    "# convert to nm\n",
    "\n",
    "Rh_values_nm = Rh_values * 1e9\n",
    "for i in range(num_detectors):\n",
    "    print(f\"Detector {i+2}: R_h = {Rh_values_nm[i]:.2f} nm\")\n",
    "    \n",
    "#avg Rh values\n",
    "Rh_avg = np.mean(Rh_values_nm)\n",
    "Rh_std = np.std(Rh_values_nm)\n",
    "\n",
    "print(f\"\\nAverage Hydrodynamic Radius: {Rh_avg:.2f} ± {Rh_std:.2f} nm\")"
   ]
  },
  {
   "cell_type": "code",
   "execution_count": 17,
   "metadata": {},
   "outputs": [
    {
     "data": {
      "image/png": "[encoded data removed]",
      "text/plain": [
       "<Figure size 640x480 with 1 Axes>"
      ]
     },
     "metadata": {},
     "output_type": "display_data"
    }
   ],
   "source": [
    "plt.plot(scattering_angles, Rh_values_nm, 'o-')\n",
    "plt.xlabel('Scattering Angle (degrees)')\n",
    "plt.ylabel('Hydrodynamic Radius R_h (nm)')\n",
    "plt.title('R_h vs. Scattering Angle')\n",
    "plt.grid(True)\n",
    "plt.show()"
   ]
  }
 ],
 "metadata": {
  "kernelspec": {
   "display_name": "Python 3",
   "language": "python",
   "name": "python3"
  },
  "language_info": {
   "codemirror_mode": {
    "name": "ipython",
    "version": 3
   },
   "file_extension": ".py",
   "mimetype": "text/x-python",
   "name": "python",
   "nbconvert_exporter": "python",
   "pygments_lexer": "ipython3",
   "version": "3.11.9"
  }
 },
 "nbformat": 4,
 "nbformat_minor": 2
}
